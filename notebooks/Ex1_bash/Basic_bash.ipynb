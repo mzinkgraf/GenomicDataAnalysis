{
 "cells": [
  {
   "cell_type": "markdown",
   "metadata": {},
   "source": [
    "***\n",
    "# <center>Navigating the Unix Shell and Learning Basic Bash</center>\n",
    "***\n",
    "\n",
    "# Tutorial Outline\n",
    "1. <a href='#section1'>Getting ready</a>\n",
    "1. <a href='#section2'>How to do it...</a>\n",
    "    1. <a href='#section2a'>Viewing working directory</a>\n",
    "    1. <a href='#section2b'>Listing folder contents</a>\n",
    "    1. <a href='#section2c'>Changing directories</a>\n",
    "    1. <a href='#section2d'>Relative and absolute paths</a>\n",
    "    1. <a href='#section2e'>File and folder manipulations</a>\n",
    "    1. <a href='#section2f'>Viewing text files</a>\n",
    "    1. <a href='#section2g'>grep</a>\n",
    "    1. <a href='#section2h'>pipes</a>\n",
    "1. <a href='#section3'>Basic Bash Scripting</a>\n",
    "1. <a href='#section4'>Bash Variables</a>\n",
    "    1. <a href='#section4a'>Typing: Strings vs. Arithmetic</a>\n",
    "    1. <a href='#section4b'>Adding to your PATH</a>\n",
    "    1. <a href='#section4c'>Environment Variables and Arguments</a>\n",
    "1. <a href='#section5'>Conditional Control Flow</a>\n",
    "    1. <a href='#section5a'>If/Elif/Else Statements</a>\n",
    "    1. <a href='#section5b'>Comparators</a>\n",
    "    1. <a href='#section5c'>For Loops</a>\n",
    "1. <a href='#section6'>Output to stdout vs. stderr</a>\n",
    "1. <a href='#section7'>Theres more...</a>\n",
    "***\n",
    "\n",
    "Learning how to interact with the operating system using a command-line interface (or terminal) is a required skill in interactive computing and data analysis. We will use a command-line interface in many of the exercises through out this class. IPython and the Jupyter Notebook are typically launched from a terminal. Installing bioinformatics and Python packages are typically done from a terminal.\n",
    "\n",
    "In this exercise, we will show the very basics of the Unix shell, which is natively available in Linux distributions (such as Debian, Ubuntu, and so on) and macOS. On Windows 10, one can install the __Windows Subsystem for Linux__, a command-line interface to a Unix subsystem integrated with the Windows operating system (see https://docs.microsoft.com/windows/wsl/about)."
   ]
  },
  {
   "cell_type": "markdown",
   "metadata": {},
   "source": [
    "# <a id='section1'><font color=black>1. Getting ready</font></a>\n",
    "***\n",
    "Here are the instructions to open a Unix shell on macOS, Linux, and Windows. bash is the most common Unix shell and this is what we will use when interacting with the remote server.\n",
    "\n",
    "On macOS, bring up the Spotlight Search, type __terminal__, and press Enter.\n",
    "\n",
    "On Windows, follow the instructions at https://docs.microsoft.com/en-us/windows/wsl/install-win10. Then, open the Windows menu, type __bash__, and press Enter.\n",
    "\n",
    "On Linux, open the Dash by clicking on the top-left icon on the desktop, type __terminal__, and open the __Terminal__ application.\n"
   ]
  },
  {
   "cell_type": "markdown",
   "metadata": {},
   "source": [
    "<div class=\"alert alert-block alert-info\">\n",
    "    <b>Tip:</b> If you want to run this notebook as bash <b>only</b> in Jupyter, you need to install <b>bash_kernel</b>, available at https://github.com/takluyver/bash_kernel. Open a terminal and type \"pip install bash_kernel && python -m bash_kernel.install\"\n",
    "\n",
    "This will install a bash kernel in Jupyter, and it will allow you to run this recipe's code directly in the Notebook.\n",
    "\n",
    "</div>"
   ]
  },
  {
   "cell_type": "markdown",
   "metadata": {},
   "source": [
    "# <a id='section2'><font color=black>2. How to do it...</font></a> \n",
    "***\n",
    "The Unix shell comes with hundreds of commands. We will see the most common ones in tutorial. \n",
    "In each of the code blocks we will be using the __`%%bash`__ magic command and this will allow us to run bash code within the jupyter notebook without having to install the bash kernel. In addition, we can do one line bash commands using the __`!<cmd>`__, such as __`!pwd`__. \n",
    "\n",
    "<div class=\"alert alert-block alert-info\">\n",
    "    <b>Note:</b> If we are working directly in the terminal the magic commands should not be used.\n",
    "</div>\n",
    "\n"
   ]
  },
  {
   "cell_type": "code",
   "execution_count": 1,
   "metadata": {},
   "outputs": [
    {
     "data": {
      "application/json": {
       "cell": {
        "!": "OSMagics",
        "HTML": "Other",
        "SVG": "Other",
        "bash": "Other",
        "capture": "ExecutionMagics",
        "debug": "ExecutionMagics",
        "file": "Other",
        "html": "DisplayMagics",
        "javascript": "DisplayMagics",
        "js": "DisplayMagics",
        "latex": "DisplayMagics",
        "markdown": "DisplayMagics",
        "perl": "Other",
        "prun": "ExecutionMagics",
        "pypy": "Other",
        "python": "Other",
        "python2": "Other",
        "python3": "Other",
        "ruby": "Other",
        "script": "ScriptMagics",
        "sh": "Other",
        "svg": "DisplayMagics",
        "sx": "OSMagics",
        "system": "OSMagics",
        "time": "ExecutionMagics",
        "timeit": "ExecutionMagics",
        "writefile": "OSMagics"
       },
       "line": {
        "alias": "OSMagics",
        "alias_magic": "BasicMagics",
        "autoawait": "AsyncMagics",
        "autocall": "AutoMagics",
        "automagic": "AutoMagics",
        "autosave": "KernelMagics",
        "bookmark": "OSMagics",
        "cat": "Other",
        "cd": "OSMagics",
        "clear": "KernelMagics",
        "colors": "BasicMagics",
        "conda": "PackagingMagics",
        "config": "ConfigMagics",
        "connect_info": "KernelMagics",
        "cp": "Other",
        "debug": "ExecutionMagics",
        "dhist": "OSMagics",
        "dirs": "OSMagics",
        "doctest_mode": "BasicMagics",
        "ed": "Other",
        "edit": "KernelMagics",
        "env": "OSMagics",
        "gui": "BasicMagics",
        "hist": "Other",
        "history": "HistoryMagics",
        "killbgscripts": "ScriptMagics",
        "ldir": "Other",
        "less": "KernelMagics",
        "lf": "Other",
        "lk": "Other",
        "ll": "Other",
        "load": "CodeMagics",
        "load_ext": "ExtensionMagics",
        "loadpy": "CodeMagics",
        "logoff": "LoggingMagics",
        "logon": "LoggingMagics",
        "logstart": "LoggingMagics",
        "logstate": "LoggingMagics",
        "logstop": "LoggingMagics",
        "ls": "Other",
        "lsmagic": "BasicMagics",
        "lx": "Other",
        "macro": "ExecutionMagics",
        "magic": "BasicMagics",
        "man": "KernelMagics",
        "matplotlib": "PylabMagics",
        "mkdir": "Other",
        "more": "KernelMagics",
        "mv": "Other",
        "notebook": "BasicMagics",
        "page": "BasicMagics",
        "pastebin": "CodeMagics",
        "pdb": "ExecutionMagics",
        "pdef": "NamespaceMagics",
        "pdoc": "NamespaceMagics",
        "pfile": "NamespaceMagics",
        "pinfo": "NamespaceMagics",
        "pinfo2": "NamespaceMagics",
        "pip": "PackagingMagics",
        "popd": "OSMagics",
        "pprint": "BasicMagics",
        "precision": "BasicMagics",
        "prun": "ExecutionMagics",
        "psearch": "NamespaceMagics",
        "psource": "NamespaceMagics",
        "pushd": "OSMagics",
        "pwd": "OSMagics",
        "pycat": "OSMagics",
        "pylab": "PylabMagics",
        "qtconsole": "KernelMagics",
        "quickref": "BasicMagics",
        "recall": "HistoryMagics",
        "rehashx": "OSMagics",
        "reload_ext": "ExtensionMagics",
        "rep": "Other",
        "rerun": "HistoryMagics",
        "reset": "NamespaceMagics",
        "reset_selective": "NamespaceMagics",
        "rm": "Other",
        "rmdir": "Other",
        "run": "ExecutionMagics",
        "save": "CodeMagics",
        "sc": "OSMagics",
        "set_env": "OSMagics",
        "store": "StoreMagics",
        "sx": "OSMagics",
        "system": "OSMagics",
        "tb": "ExecutionMagics",
        "time": "ExecutionMagics",
        "timeit": "ExecutionMagics",
        "unalias": "OSMagics",
        "unload_ext": "ExtensionMagics",
        "who": "NamespaceMagics",
        "who_ls": "NamespaceMagics",
        "whos": "NamespaceMagics",
        "xdel": "NamespaceMagics",
        "xmode": "BasicMagics"
       }
      },
      "text/plain": [
       "Available line magics:\n",
       "%alias  %alias_magic  %autoawait  %autocall  %automagic  %autosave  %bookmark  %cat  %cd  %clear  %colors  %conda  %config  %connect_info  %cp  %debug  %dhist  %dirs  %doctest_mode  %ed  %edit  %env  %gui  %hist  %history  %killbgscripts  %ldir  %less  %lf  %lk  %ll  %load  %load_ext  %loadpy  %logoff  %logon  %logstart  %logstate  %logstop  %ls  %lsmagic  %lx  %macro  %magic  %man  %matplotlib  %mkdir  %more  %mv  %notebook  %page  %pastebin  %pdb  %pdef  %pdoc  %pfile  %pinfo  %pinfo2  %pip  %popd  %pprint  %precision  %prun  %psearch  %psource  %pushd  %pwd  %pycat  %pylab  %qtconsole  %quickref  %recall  %rehashx  %reload_ext  %rep  %rerun  %reset  %reset_selective  %rm  %rmdir  %run  %save  %sc  %set_env  %store  %sx  %system  %tb  %time  %timeit  %unalias  %unload_ext  %who  %who_ls  %whos  %xdel  %xmode\n",
       "\n",
       "Available cell magics:\n",
       "%%!  %%HTML  %%SVG  %%bash  %%capture  %%debug  %%file  %%html  %%javascript  %%js  %%latex  %%markdown  %%perl  %%prun  %%pypy  %%python  %%python2  %%python3  %%ruby  %%script  %%sh  %%svg  %%sx  %%system  %%time  %%timeit  %%writefile\n",
       "\n",
       "Automagic is ON, % prefix IS NOT needed for line magics."
      ]
     },
     "execution_count": 1,
     "metadata": {},
     "output_type": "execute_result"
    }
   ],
   "source": [
    "#lets list all magic commands to make sure we have access to the %%bash terminal from jupyter\n",
    "%lsmagic"
   ]
  },
  {
   "cell_type": "markdown",
   "metadata": {},
   "source": [
    "__<a id='section2a'><font color=black>A.</font></a>__ The terminal lets us write text commands with the keyboard. We execute them by pressing Enter, and the output is displayed below the command. The working directory is the directory of our file system that is currently \"active\" in the terminal. We can get the absolute path of the working directory as follows:"
   ]
  },
  {
   "cell_type": "code",
   "execution_count": 2,
   "metadata": {},
   "outputs": [
    {
     "name": "stdout",
     "output_type": "stream",
     "text": [
      "/data/home/WWU/BIOL497R/notebooks/Ex1_bash\n"
     ]
    }
   ],
   "source": [
    "%%bash\n",
    "\n",
    "pwd"
   ]
  },
  {
   "cell_type": "markdown",
   "metadata": {},
   "source": [
    "or"
   ]
  },
  {
   "cell_type": "code",
   "execution_count": 3,
   "metadata": {},
   "outputs": [
    {
     "name": "stdout",
     "output_type": "stream",
     "text": [
      "/data/home/WWU/BIOL497R/notebooks/Ex1_bash\r\n"
     ]
    }
   ],
   "source": [
    "!pwd"
   ]
  },
  {
   "cell_type": "markdown",
   "metadata": {},
   "source": [
    "__<a id='section2b'><font color=black>B.</font></a>__  We can use the __`ls`__ command to list all files and subdirectories in the working directory as follows:"
   ]
  },
  {
   "cell_type": "code",
   "execution_count": 5,
   "metadata": {},
   "outputs": [
    {
     "name": "stdout",
     "output_type": "stream",
     "text": [
      "data\n",
      "jupyterhub_cookie_secret\n",
      "jupyterhub.sqlite\n",
      "notebooks\n"
     ]
    }
   ],
   "source": [
    "%%bash\n",
    "\n",
    "ls ~/BIOL497R/"
   ]
  },
  {
   "cell_type": "markdown",
   "metadata": {},
   "source": [
    "The __`-l`__ option displays the directory contents as a detailed list, showing the permissions and owner of the files, the file sizes, and the last modified dates. Most shell commands come with many options that alter their behavior and that can be arbitrarily combined."
   ]
  },
  {
   "cell_type": "code",
   "execution_count": 6,
   "metadata": {},
   "outputs": [
    {
     "name": "stdout",
     "output_type": "stream",
     "text": [
      "total 116\n",
      "drwxr-xr-x 3 zinkgrm domain users   4096 Apr  2 14:33 data\n",
      "-rw------- 1 zinkgrm domain users     65 Apr  2 14:38 jupyterhub_cookie_secret\n",
      "-rw-r--r-- 1 zinkgrm domain users 102400 Apr  2 14:38 jupyterhub.sqlite\n",
      "drwxr-xr-x 8 zinkgrm domain users   4096 Apr  2 14:33 notebooks\n"
     ]
    }
   ],
   "source": [
    "%%bash\n",
    "\n",
    "ls -l ~/BIOL497R/"
   ]
  },
  {
   "cell_type": "markdown",
   "metadata": {},
   "source": [
    "__<a id='section2c'><font color=black>C.</font></a>__  We use the __`cd`__ command to navigate between subdirectories. The current directory is named __`.`__ (single dot), and the parent directory is named __`../`__ (double dot):"
   ]
  },
  {
   "cell_type": "code",
   "execution_count": 7,
   "metadata": {},
   "outputs": [
    {
     "name": "stdout",
     "output_type": "stream",
     "text": [
      "/data/home/WWU/BIOL497R/notebooks/Ex1_bash/data\n"
     ]
    }
   ],
   "source": [
    "%%bash\n",
    "\n",
    "cd data\n",
    "\n",
    "pwd"
   ]
  },
  {
   "cell_type": "code",
   "execution_count": 8,
   "metadata": {},
   "outputs": [
    {
     "name": "stdout",
     "output_type": "stream",
     "text": [
      "/data/home/WWU/BIOL497R/notebooks\n"
     ]
    }
   ],
   "source": [
    "%%bash\n",
    "\n",
    "cd ../\n",
    "\n",
    "pwd"
   ]
  },
  {
   "cell_type": "markdown",
   "metadata": {},
   "source": [
    "__<a id='section2d'><font color=black>D.</font></a>__  Paths can be specified as relative (depending on a reference directory, generally the working directory) or absolute. The home directory, specified as __`~`__, contains the user's personal files. Configuration files are often stored in a directory like __`~/.program_name`__. For example, __`~/.ipython`__ contains configuration files of IPython:"
   ]
  },
  {
   "cell_type": "code",
   "execution_count": 9,
   "metadata": {},
   "outputs": [
    {
     "name": "stdout",
     "output_type": "stream",
     "text": [
      "total 20\n",
      "drwxr-xr-x 5 zinkgrm domain users         4096 Apr  2 14:45 .\n",
      "drwxr-x--- 9 zinkgrm biol497r-instructors 4096 Apr  2 14:45 ..\n",
      "drwxr-xr-x 2 zinkgrm domain users         4096 Apr  2 14:45 extensions\n",
      "drwxr-xr-x 2 zinkgrm domain users         4096 Apr  2 14:45 nbextensions\n",
      "drwxr-xr-x 7 zinkgrm domain users         4096 Apr  2 14:46 profile_default\n"
     ]
    }
   ],
   "source": [
    "%%bash\n",
    "\n",
    "ls -la ~/.ipython"
   ]
  },
  {
   "cell_type": "markdown",
   "metadata": {},
   "source": [
    "In most terminals, we can use the arrow keys on the keyboard to navigate in the history of past commands. Also, the Tab key enables tab completion, which automatically completes the first characters of a command or a file. For example, typing __`ls -la ~/.ipy`__ and pressing Tab would automatically complete to __`ls -la ~/.ipython`__, or it would present the list of possible options if there are several files or directories that begin with __`~/.ipy`__."
   ]
  },
  {
   "cell_type": "markdown",
   "metadata": {},
   "source": [
    "__<a id='section2e'><font color=black>E.</font></a>__  We can create, move, rename, copy, delete files and directories from the terminal:"
   ]
  },
  {
   "cell_type": "code",
   "execution_count": 10,
   "metadata": {},
   "outputs": [
    {
     "name": "stdout",
     "output_type": "stream",
     "text": [
      "Basic_bash.ipynb\n",
      "basic.txt\n",
      "data\n",
      "HelloUser.sh\n",
      "helloworld.sh\n",
      "Jupiter_home.png\n",
      "large.fasta\n",
      "medium.fasta\n",
      "myfile.txt\n",
      "notebook.tex\n",
      "printargs.sh\n",
      "small.fasta\n"
     ]
    }
   ],
   "source": [
    "%%bash\n",
    "\n",
    "ls"
   ]
  },
  {
   "cell_type": "code",
   "execution_count": 12,
   "metadata": {},
   "outputs": [
    {
     "name": "stdout",
     "output_type": "stream",
     "text": [
      "Anaconda2-2018.12-Linux-x86_64.sh\n",
      "BIOL497R\n",
      "jupyterhub_config.py\n",
      "jupyterhub_cookie_secret\n",
      "jupyterhub-proxy.pid\n",
      "jupyterhub.sqlite\n",
      "nb_files\n"
     ]
    },
    {
     "name": "stderr",
     "output_type": "stream",
     "text": [
      "mkdir: cannot create directory ‘/home/WWU/zinkgrm/nb_files’: File exists\n"
     ]
    }
   ],
   "source": [
    "%%bash\n",
    "\n",
    "## update to new content ##\n",
    "# We create an empty directory:\n",
    "mkdir ~/nb_files\n",
    "\n",
    "# we check to see if it was made\n",
    "ls ~/"
   ]
  },
  {
   "cell_type": "code",
   "execution_count": 13,
   "metadata": {},
   "outputs": [
    {
     "name": "stdout",
     "output_type": "stream",
     "text": [
      "Basic_bash.ipynb\n",
      "basic.txt\n",
      "data\n",
      "HelloUser.sh\n",
      "helloworld.sh\n",
      "Jupiter_home.png\n",
      "large.fasta\n",
      "medium.fasta\n",
      "myfile.txt\n",
      "notebook.tex\n",
      "printargs.sh\n",
      "small.fasta\n",
      "Basic_bash.ipynb\n"
     ]
    }
   ],
   "source": [
    "%%bash\n",
    "\n",
    "# We copy all notebook files into the new directory:\n",
    "cp *.ipynb ~/nb_files\n",
    "\n",
    "# We rename the directory and check to see if it was renamed:\n",
    "mv ~/nb_files ~/notebook_files\n",
    "ls\n",
    "\n",
    "# We check what files are contained in the new directory:\n",
    "ls ~/notebook_files"
   ]
  },
  {
   "cell_type": "code",
   "execution_count": 14,
   "metadata": {},
   "outputs": [
    {
     "name": "stdout",
     "output_type": "stream",
     "text": [
      "Anaconda2-2018.12-Linux-x86_64.sh\n",
      "BIOL497R\n",
      "jupyterhub_config.py\n",
      "jupyterhub_cookie_secret\n",
      "jupyterhub-proxy.pid\n",
      "jupyterhub.sqlite\n"
     ]
    },
    {
     "name": "stderr",
     "output_type": "stream",
     "text": [
      "rmdir: failed to remove '/home/WWU/zinkgrm/notebook_files': Directory not empty\n"
     ]
    }
   ],
   "source": [
    "%%bash\n",
    "\n",
    "#This command will fail because the folder is not empty\n",
    "rmdir ~/notebook_files\n",
    "\n",
    "# First remove files in the folder\n",
    "rm ~/notebook_files/*\n",
    "\n",
    "# Then remove folder\n",
    "rmdir ~/notebook_files\n",
    "\n",
    "# Check\n",
    "ls ~/"
   ]
  },
  {
   "cell_type": "markdown",
   "metadata": {},
   "source": [
    "The __`rm`__ command lets us delete files and directories. The __`rm -rf`__ path deletes the given path recursively, even if subdirectories are not empty. It is an extremely dangerous command as it cannot be undone: the files are immediately and permanently deleted, they do not go into a trash directory first. See https://github.com/sindresorhus/guides/blob/master/how-not-to-rm-yourself.md for more details."
   ]
  },
  {
   "cell_type": "markdown",
   "metadata": {},
   "source": [
    "__<a id='section2f'><font color=black>F.</font></a>__ There are several useful commands to deal with text files:"
   ]
  },
  {
   "cell_type": "code",
   "execution_count": 15,
   "metadata": {},
   "outputs": [
    {
     "name": "stdout",
     "output_type": "stream",
     "text": [
      "Hi \n",
      "this \n",
      "is test file \n"
     ]
    }
   ],
   "source": [
    "%%bash\n",
    "\n",
    "# Show the first three lines of a text file:\n",
    "head -n 3 basic.txt"
   ]
  },
  {
   "cell_type": "code",
   "execution_count": 16,
   "metadata": {},
   "outputs": [
    {
     "name": "stdout",
     "output_type": "stream",
     "text": [
      "ABCD EFG"
     ]
    }
   ],
   "source": [
    "%%bash\n",
    "\n",
    "# Show the last line of a text file:\n",
    "tail -n 1 basic.txt"
   ]
  },
  {
   "cell_type": "code",
   "execution_count": 17,
   "metadata": {},
   "outputs": [
    {
     "name": "stdout",
     "output_type": "stream",
     "text": [
      "Hello world!\n"
     ]
    }
   ],
   "source": [
    "%%bash\n",
    "\n",
    "# We display some text:\n",
    "echo \"Hello world!\""
   ]
  },
  {
   "cell_type": "code",
   "execution_count": 18,
   "metadata": {},
   "outputs": [
    {
     "name": "stdout",
     "output_type": "stream",
     "text": [
      "Hello world!\n"
     ]
    }
   ],
   "source": [
    "%%bash\n",
    "\n",
    "# We redirect the output of a command to\n",
    "# a text file with `>`:\n",
    "echo \"Hello world!\" > myfile.txt\n",
    "# We display the entire contents of the file:\n",
    "cat myfile.txt"
   ]
  },
  {
   "cell_type": "markdown",
   "metadata": {},
   "source": [
    "__<a id='section2g'><font color=black>G.</font></a>__  The grep command lets us search substrings in text and is an acronym for “Global Regular Expression Print”. Now let’s go on to some practical examples of using grep. To better understand the results, I’ve created a simple text file __`basic.txt`__ on which we will run our grep searches; the file contains the following lines:"
   ]
  },
  {
   "cell_type": "code",
   "execution_count": 19,
   "metadata": {},
   "outputs": [
    {
     "name": "stdout",
     "output_type": "stream",
     "text": [
      "Hi \r\n",
      "this \r\n",
      "is test file \r\n",
      "to carry out few regular expressions \r\n",
      "practical with grep \r\n",
      "123 456 \r\n",
      "Abcd\r\n",
      "ABCD EFG"
     ]
    }
   ],
   "source": [
    "!head basic.txt"
   ]
  },
  {
   "cell_type": "markdown",
   "metadata": {},
   "source": [
    "We can do a case-insensitive search using the __`-i`__ option:"
   ]
  },
  {
   "cell_type": "code",
   "execution_count": 20,
   "metadata": {},
   "outputs": [
    {
     "name": "stdout",
     "output_type": "stream",
     "text": [
      "Abcd\n",
      "ABCD EFG\n"
     ]
    }
   ],
   "source": [
    "%%bash\n",
    "\n",
    "grep -i 'abcd' basic.txt"
   ]
  },
  {
   "cell_type": "markdown",
   "metadata": {},
   "source": [
    "<div class=\"alert alert-block alert-info\">\n",
    "    <b>Note:</b> By default grep prints the results of the entire line. To restrict the print to the search pattern, add the __`-o`__ option.\n",
    "</div>\n",
    "\n",
    "We can count the number of occurances of a match by using the __`-c`__ option:"
   ]
  },
  {
   "cell_type": "code",
   "execution_count": 21,
   "metadata": {},
   "outputs": [
    {
     "name": "stdout",
     "output_type": "stream",
     "text": [
      "2\n"
     ]
    }
   ],
   "source": [
    "%%bash\n",
    "\n",
    "grep -c 'is' basic.txt"
   ]
  },
  {
   "cell_type": "markdown",
   "metadata": {},
   "source": [
    "We can use the __`-Eo`__ option to find all instances that match, test followed by a word (using regular expressions):"
   ]
  },
  {
   "cell_type": "code",
   "execution_count": 22,
   "metadata": {},
   "outputs": [
    {
     "name": "stdout",
     "output_type": "stream",
     "text": [
      "test file\n"
     ]
    }
   ],
   "source": [
    "%%bash\n",
    "\n",
    "grep -Eo \"test \\w+\" basic.txt"
   ]
  },
  {
   "cell_type": "markdown",
   "metadata": {},
   "source": [
    "__<a id='section2h'><font color=black>H.</font></a>__  A major strength of the Unix shell is that commands can be combined with pipes: the output of one command can be directly transferred to the input of another command:"
   ]
  },
  {
   "cell_type": "code",
   "execution_count": 23,
   "metadata": {},
   "outputs": [
    {
     "name": "stdout",
     "output_type": "stream",
     "text": [
      "Unix shell\n"
     ]
    }
   ],
   "source": [
    "%%bash\n",
    "\n",
    "echo \"This is a Unix shell\" | grep -Eo \"Unix \\w+\""
   ]
  },
  {
   "cell_type": "markdown",
   "metadata": {},
   "source": [
    "## <a id='section3'><font color=black>3. Basic Bash Scripting</font></a>\n",
    "What we have been doing so far is single operations per command line. Next, we are going to see how to combine multiple operations and some programming logic to build small scripts to perform basic utilities.\n",
    "https://www.usna.edu/Users/cs/aviv/classes/ic221/s17/lab/02/lab.html"
   ]
  },
  {
   "cell_type": "markdown",
   "metadata": {},
   "source": [
    "### Hello World"
   ]
  },
  {
   "cell_type": "markdown",
   "metadata": {},
   "source": [
    "Scripting is synonymous with programming — it is programming — except it's generally considered more light weight. For the scripts we'll write in this class, the commands will be stored in a file, but that file is interpreted by the bash shell. That means each line actually runs like a sequence of command lines executed in the order they apear in the file as if they were typed onto the command line.\n",
    "\n",
    "You must indicate that you wish for the your script to be treated as such by designating which program should be interpreting the command lines. To make that designation, we use a shabang symbol __`#!`__ symbol followed by the path to a program. For this section, that program is going to be bash, namely the shell. To find out the path we can use the command __`which bash`__.\n",
    "\n",
    "Next, we want to write our first program using a text editor (__`nano`__), namely to print \"Hello World,\" so let's take a look at that first."
   ]
  },
  {
   "cell_type": "code",
   "execution_count": 24,
   "metadata": {},
   "outputs": [
    {
     "name": "stdout",
     "output_type": "stream",
     "text": [
      "#!/bin/bash\n",
      "\n",
      "echo \"Hello World\"  # This is a comment\n",
      "\n"
     ]
    }
   ],
   "source": [
    "%%bash\n",
    "\n",
    "less helloworld.sh"
   ]
  },
  {
   "cell_type": "markdown",
   "metadata": {},
   "source": [
    "You can find the script helloworld.sh in the examples folder in the lab directory. By convention, all bash scripts, or shell scripts, have a file type __.sh__, and we will use that convention in this class. \n",
    "\n",
    "On line 1, there is the shebang tells the shell what programming language to use to interpret the code, such as bash.\n",
    "\n",
    "On line 3, there is the actual command to print to standard out, \"Hello World\", as well as a comment, anything following a \"#\". The echo command echoes back anything it is given to stdout, in this case, the string \"Hello World.\""
   ]
  },
  {
   "cell_type": "markdown",
   "metadata": {},
   "source": [
    "Several command-line text editors are available, such as __`pico`__, __`nano`__, or __`vi`__. Learning these text editors requires time and effort, especially vi. One of the most user friendly text editors is __`nano`__. From a terminal, create a script in your home directory __`nano ~/helloworld.sh`__. We will go through a tutorial about how to use nano and and the associated keystrokes to navigate. To open a terminal, go the the Jupyter home screen and select New -> Terminal. This will open a new page with a bash cammand line terminal.\n",
    "\n",
    "<img src=\"Jupiter_home.png\" alt=\"Jupyter home folder\" title=\"Jupyter Home\" width= 50%/>\n",
    "\n",
    "Next, you have to make the file executable using __`chmod`__ before we can execute the program. You will notice in the __`ls -l`__ output that the file now has x associated with the permissions."
   ]
  },
  {
   "cell_type": "code",
   "execution_count": null,
   "metadata": {},
   "outputs": [],
   "source": [
    "%%bash \n",
    "\n",
    "chmod +x ~/helloworld.sh\n",
    "\n",
    "ls -l ~/helloworld.sh ## Make sure this file shows up in your home directory or you will get an error"
   ]
  },
  {
   "cell_type": "markdown",
   "metadata": {},
   "source": [
    "Now you are ready to execute with __`~/helloworld.sh`__ or __`bash ~/helloworld.sh`__"
   ]
  },
  {
   "cell_type": "code",
   "execution_count": 6,
   "metadata": {},
   "outputs": [
    {
     "name": "stdout",
     "output_type": "stream",
     "text": [
      "Hello World\n"
     ]
    }
   ],
   "source": [
    "%%bash\n",
    "\n",
    "~/helloworld.sh"
   ]
  },
  {
   "cell_type": "markdown",
   "metadata": {},
   "source": [
    "## <a id='section4'><font color=black>4. Bash Variables</font></a>\n",
    "You can assign variables in bash just like in other programming languages, but you refer to variables using a $ symbol. Note that spacing is important, the assignment must occur immediately following the equal sign. If there are spaces in the string value, use quotes."
   ]
  },
  {
   "cell_type": "code",
   "execution_count": 26,
   "metadata": {},
   "outputs": [
    {
     "name": "stdout",
     "output_type": "stream",
     "text": [
      "Your name is matt\n"
     ]
    }
   ],
   "source": [
    "%%bash\n",
    "\n",
    "name=matt\n",
    "echo \"Your name is $name\""
   ]
  },
  {
   "cell_type": "markdown",
   "metadata": {},
   "source": [
    "Information can also be captured from the stdout of a program using $(...). The below example uses __`wc`__ with the __`-l`__ option to count the number of lines in the file."
   ]
  },
  {
   "cell_type": "code",
   "execution_count": 27,
   "metadata": {},
   "outputs": [
    {
     "name": "stdout",
     "output_type": "stream",
     "text": [
      "111259\n"
     ]
    }
   ],
   "source": [
    "%%bash\n",
    "\n",
    "count=$(wc -l < large.fasta)\n",
    "\n",
    "echo $count"
   ]
  },
  {
   "cell_type": "code",
   "execution_count": 28,
   "metadata": {},
   "outputs": [
    {
     "name": "stdout",
     "output_type": "stream",
     "text": [
      "Your name is Matt Zink\n"
     ]
    }
   ],
   "source": [
    "%%bash\n",
    "\n",
    "name=\"Matt Zink\"\n",
    "echo \"Your name is $name\""
   ]
  },
  {
   "cell_type": "markdown",
   "metadata": {},
   "source": [
    "Finally, variable replacement, that is substituting a variable for its value, occurs throughout a script, including in quotes, like above."
   ]
  },
  {
   "cell_type": "markdown",
   "metadata": {},
   "source": [
    "## <a id='section4a'><font color=black>A. Typing: Strings vs. Arithmetic</font></a>\n",
    "One major difference between bash, which is a scripting language, and R or python, is that it is not strongly typed. That means, you don't need to identify the type of the data you're storing to a variable. Instead, you have to provide some context for how you want the data to be interpreted, otherwise, by default, it will be treated like strings and + is concatenation."
   ]
  },
  {
   "cell_type": "code",
   "execution_count": 29,
   "metadata": {},
   "outputs": [
    {
     "name": "stdout",
     "output_type": "stream",
     "text": [
      "1+1\n"
     ]
    }
   ],
   "source": [
    "%%bash\n",
    "\n",
    "n=1\n",
    "n=1+$n\n",
    "echo $n   #<-- print \"1+1\" not 2!"
   ]
  },
  {
   "cell_type": "markdown",
   "metadata": {},
   "source": [
    "To peform arithmetic operations, you use the __`let`__ operations."
   ]
  },
  {
   "cell_type": "code",
   "execution_count": 30,
   "metadata": {},
   "outputs": [
    {
     "name": "stdout",
     "output_type": "stream",
     "text": [
      "2\n"
     ]
    }
   ],
   "source": [
    "%%bash\n",
    "\n",
    "n=1\n",
    "let n=1+$n #<-- use quotes if you need white space\n",
    "echo $n   #<-- prints 2!"
   ]
  },
  {
   "cell_type": "markdown",
   "metadata": {},
   "source": [
    "There is also no such things as floats in bash. Everything is a numeric integer."
   ]
  },
  {
   "cell_type": "markdown",
   "metadata": {},
   "source": [
    "## <a id='section4b'><font color=black>B. Adding to your PATH</font></a>\n",
    "As you develop new tools for this class, you would like to be able to call on them directly, like you do other commmand line tools. To do this, those scripts/programs need to exist on the $PATH."
   ]
  },
  {
   "cell_type": "code",
   "execution_count": 31,
   "metadata": {},
   "outputs": [
    {
     "name": "stdout",
     "output_type": "stream",
     "text": [
      "/home/WWU/zinkgrm\n",
      "/usr/local/sbin:/usr/local/bin:/usr/sbin:/usr/bin:/sbin:/bin:/usr/games:/usr/local/games:/snap/bin:/opt/anaconda2/bin\n"
     ]
    }
   ],
   "source": [
    "%%bash\n",
    "\n",
    "# see what $HOME and $PATH are set to\n",
    "echo $HOME\n",
    "echo $PATH"
   ]
  },
  {
   "cell_type": "markdown",
   "metadata": {},
   "source": [
    "The standard, Unix way to do this, is to create a directory in your home folder called __`~/bin`__ and place all newly create commands there. Unfortunately, your bin directory may not be on the search path yet. To add it, you have to update the enviroment variable PATH. The PATH can be permanently updated by modifying the PATH line in the file called `.bashrc` using a text editor, such as __`nano`__."
   ]
  },
  {
   "cell_type": "markdown",
   "metadata": {},
   "source": [
    "<div class=\"alert alert-block alert-info\">\n",
    "    <b>Note:</b> When specifying a PATH, the folders are seperated by _`:`_.\n",
    "</div>"
   ]
  },
  {
   "cell_type": "code",
   "execution_count": null,
   "metadata": {},
   "outputs": [],
   "source": [
    "%%bash\n",
    "\n",
    "mkdir ~/bin  #create bin folder\n",
    "mv ~/helloworld.sh ~/bin/   #mv script to the new folder\n",
    "\n",
    "export PATH=$HOME/bin:$PATH   #modify your path to include the $HOME/bin:\n",
    "echo $PATH"
   ]
  },
  {
   "cell_type": "markdown",
   "metadata": {},
   "source": [
    "This will place __`~/bin`__ at the start of the search path while preserving prior values on the path. The export command sets the assignment globally, across all scripts and programs that are to be run from the shell."
   ]
  },
  {
   "cell_type": "markdown",
   "metadata": {},
   "source": [
    "## <a id='section4c'><font color=black>C. Environment Variables and Arguments</font></a>\n",
    "In a bash script, and in bash shells in general, there are a number of environment variables available for convenience. Once such environment variable we've seen previously is the PATH variable:\n",
    "\n",
    "By convention all environment variables are upper case. Below are some really useful ones to know:\n",
    "\n",
    "| Variable | Description |\n",
    "| --- | --- |\n",
    "| \\$USER  | the current user |\n",
    "| \\$HOME  | the home directory |\n",
    "| \\$PWD   | The current working directory |\n",
    "| \\$SHELL | The name of the shell you are currently running |"
   ]
  },
  {
   "cell_type": "code",
   "execution_count": 33,
   "metadata": {
    "scrolled": true
   },
   "outputs": [
    {
     "name": "stdout",
     "output_type": "stream",
     "text": [
      "/data/home/WWU/BIOL497R/notebooks/Ex1_bash\n"
     ]
    }
   ],
   "source": [
    "%%bash\n",
    "\n",
    "echo $PWD"
   ]
  },
  {
   "cell_type": "markdown",
   "metadata": {},
   "source": [
    "For example, this program __`HelloUser.sh`__ prints a helpful message"
   ]
  },
  {
   "cell_type": "code",
   "execution_count": 34,
   "metadata": {},
   "outputs": [
    {
     "name": "stdout",
     "output_type": "stream",
     "text": [
      "#!/bin/bash\n",
      "\n",
      "echo \"Hello $USER!\"\n",
      "echo \"You are currently here: $PWD\"\n",
      "echo \"But, your home directory here: $HOME\"\n"
     ]
    }
   ],
   "source": [
    "%%bash\n",
    "\n",
    "#look at the script\n",
    "less HelloUser.sh"
   ]
  },
  {
   "cell_type": "code",
   "execution_count": 35,
   "metadata": {},
   "outputs": [
    {
     "name": "stdout",
     "output_type": "stream",
     "text": [
      "Hello zinkgrm!\n",
      "You are currently here: /data/home/WWU/BIOL497R/notebooks/Ex1_bash\n",
      "But, your home directory here: /home/WWU/zinkgrm\n"
     ]
    }
   ],
   "source": [
    "%%bash\n",
    "\n",
    "#execute the script\n",
    "bash HelloUser.sh"
   ]
  },
  {
   "cell_type": "markdown",
   "metadata": {},
   "source": [
    "Additionally, there are environment variables for arguments passed to the shell script. These are `$0`, `$1`, `$2`, etc, where the number refers to the command line argument. For example, consider the script, __`printargs.sh`__"
   ]
  },
  {
   "cell_type": "code",
   "execution_count": 36,
   "metadata": {},
   "outputs": [
    {
     "name": "stdout",
     "output_type": "stream",
     "text": [
      "#!/bin/bash                                                                                                        \n",
      "\n",
      "echo \"arg 0: $0\"\n",
      "echo \"arg 1: $1\"\n",
      "echo \"arg 2: $2\"\n",
      "echo \"arg 3: $3\"\n",
      "echo \"arg 4: $4\"\n",
      "\n"
     ]
    }
   ],
   "source": [
    "%%bash\n",
    "\n",
    "less printargs.sh"
   ]
  },
  {
   "cell_type": "code",
   "execution_count": 37,
   "metadata": {},
   "outputs": [
    {
     "name": "stdout",
     "output_type": "stream",
     "text": [
      "arg 0: printargs.sh\n",
      "arg 1: x\n",
      "arg 2: y\n",
      "arg 3: z\n",
      "arg 4: \n"
     ]
    }
   ],
   "source": [
    "%%bash\n",
    "\n",
    "#args   0         1 2 3 4\n",
    "#       |         | | | |\n",
    "bash printargs.sh x y z"
   ]
  },
  {
   "cell_type": "markdown",
   "metadata": {},
   "source": [
    "Argument 0 always refers to the script, and each `$1` refers to the arguments to the script. The script prints the first 4 arguments, but there isn't a fourth argument. `$4` is treated as the empty string. "
   ]
  },
  {
   "cell_type": "markdown",
   "metadata": {},
   "source": [
    "To refer to all arguments, not including `$0`, use `$*`. `$#` is special variable set to the number of arguments.  Try adding the following code to the __`printargs.sh`__ script."
   ]
  },
  {
   "cell_type": "code",
   "execution_count": 38,
   "metadata": {},
   "outputs": [
    {
     "name": "stdout",
     "output_type": "stream",
     "text": [
      "There are 0 number of args\n",
      "Arguments _not_ including the name of the script: \n"
     ]
    }
   ],
   "source": [
    "%%bash\n",
    "\n",
    "echo \"There are $# number of args\"\n",
    "echo \"Arguments _not_ including the name of the script: $*\""
   ]
  },
  {
   "cell_type": "markdown",
   "metadata": {},
   "source": [
    "## <a id='section5'><font color=black>5. Conditional Control Flow</font></a>\n",
    "Like any reasonable programming environment, you want to do more than just print things out in an iterative fashion. We need a mechanism to change the program based on some condition, like if/else statements and looping.\n",
    "\n",
    "### <a id='section5a'><font color=black>A. If/Elif/Else Statements</font></a>\n",
    "\n",
    "The format of an if statement is like so:"
   ]
  },
  {
   "cell_type": "markdown",
   "metadata": {},
   "source": [
    "```bash\n",
    "if cmd\n",
    "then \n",
    "    cmd\n",
    "elif cmd\n",
    "then\n",
    "    cmd\n",
    "else\n",
    "    cmd  \n",
    "fi        #<-- close off the if statemet with fi\n",
    "```"
   ]
  },
  {
   "cell_type": "markdown",
   "metadata": {},
   "source": [
    "The `if cmd` part proceeds if the cmd succeeds, that is, it doesn't have exit with failure. In general, the cmd used in `if` blocks and others are the \\[ \\] which checks conditions. With the \\[ \\] you can do simple comparators and other operations. Here is a an examples script that checks if the script was run from the home directory:"
   ]
  },
  {
   "cell_type": "code",
   "execution_count": 39,
   "metadata": {},
   "outputs": [
    {
     "name": "stdout",
     "output_type": "stream",
     "text": [
      "Hello zinkgrm\n",
      "What are you doing away from home?!?\n",
      "Now you are in your home directory: /home/WWU/zinkgrm\n"
     ]
    }
   ],
   "source": [
    "%%bash\n",
    "\n",
    "echo \"Hello $USER\"\n",
    "\n",
    "if [ $HOME == $PWD ]\n",
    "then\n",
    "    echo \"Good, you're in your home directory: $HOME\"\n",
    "else\n",
    "    echo \"What are you doing away from home?!?\"\n",
    "\n",
    "    cd $HOME\n",
    "\n",
    "    echo \"Now you are in your home directory: $PWD\"\n",
    "fi"
   ]
  },
  {
   "cell_type": "markdown",
   "metadata": {},
   "source": [
    "There are two things of note here. First, the `[ $HOME == $PWD ]` is a logical command that succeeds only when `$HOME` is the present working directory. Also, when you change directories within a script, you are not changing the directory of the shell you ran the script from, just the present working directory of the script itself."
   ]
  },
  {
   "cell_type": "markdown",
   "metadata": {},
   "source": [
    "### <a id='section5b'><font color=black>B. Comparators</font></a>\n",
    "\n",
    "Conditions in bash exist within brackets, \\[ \\], but the \\[ \\] is actually a command that returns true if the conditions were met. For string comparators, you can use `=` and `!` but for numerics, you need to use options to the \\[ \\] command. See below for the varied usages."
   ]
  },
  {
   "cell_type": "markdown",
   "metadata": {},
   "source": [
    "<div class=\"alert alert-block alert-info\">\n",
    "    <b>Note:</b> Remember when we create variables in bash, we create then by __`var=value`__ and when the variable is recalled or used, we use __`$var`__.\n",
    "</div>"
   ]
  },
  {
   "cell_type": "code",
   "execution_count": 40,
   "metadata": {},
   "outputs": [
    {
     "name": "stdout",
     "output_type": "stream",
     "text": [
      "string Matt does not equal adam\n",
      "string Matt is not empty!\n",
      "number 2 does not equal 1\n",
      "1 is less than 2\n",
      "basic.txt exists!\n",
      "basic.txt exists and is not a directory!\n",
      "basic.txt exists and is readable!\n",
      "basic.txt exists and has size greater than zero!\n",
      "basic.txt exists and is writable!\n"
     ]
    }
   ],
   "source": [
    "%%bash\n",
    "\n",
    "#string                                                                                                            \n",
    "var=adam\n",
    "user=Matt\n",
    "if [ $user = $var ] ; then echo \"string $user equals $var\" ; fi\n",
    "if [ $user == $var ] ; then echo \"string $user equals $var\" ; fi\n",
    "if [ $user != $var ] ; then echo \"string $user does not equal $var\" ; fi\n",
    "if [ -z $user ] ; then echo \"string $user is empty!\"; fi\n",
    "if [ -n $user ] ; then echo \"string $user is not empty!\"; fi\n",
    "\n",
    "#numeric                                                                                                           \n",
    "a=1\n",
    "b=2\n",
    "if [ $a -eq $b ] ; then echo \"number $b equals $a\" ; fi\n",
    "if [ $a -ne $b ] ; then echo \"number $b does not equal $a\" ; fi\n",
    "if [ $a -gt $b ] ; then echo \"$a is greater than $b\" ; fi\n",
    "if [ $a -lt $b ] ; then echo \"$a is less than $b\" ; fi\n",
    "\n",
    "#file/dir properties \n",
    "file=\"basic.txt\"\n",
    "if [ -d $file ] ; then echo \"$file exists and is a directory!\" ; fi\n",
    "if [ -e $file ] ; then echo \"$file exists!\" ; fi\n",
    "if [ -f $file ] ; then echo \"$file exists and is not a directory!\" ; fi\n",
    "if [ -r $file ] ; then echo \"$file exists and is readable!\" ; fi\n",
    "if [ -s $file ] ; then echo \"$file exists and has size greater than zero!\" ; fi\n",
    "if [ -w $file ] ; then echo \"$file exists and is writable!\" ; fi\n",
    "if [ -x $file ] ; then echo \"$file exists and is executable!\" ; fi\n",
    "\n",
    "# NOTE: Since everything's on the same line, I need ;s between                                                     \n",
    "# the if and the then and between the then and the fi."
   ]
  },
  {
   "cell_type": "markdown",
   "metadata": {},
   "source": [
    "Additionally, you can use the standard set of conditional operators:"
   ]
  },
  {
   "cell_type": "markdown",
   "metadata": {},
   "source": [
    "```bash\n",
    "if [ $condition1 ] || [ $condition2 ] ; do echo \"either condition1 or condition2 are true\"; done\n",
    "if [ $condition1 ] && [ $condition2 ] ; do echo \"condition1 and condition2 are true\"; done\n",
    "if [ ! $condition1 ] ; do echo \"condtion1 is not true\"; done\n",
    "```"
   ]
  },
  {
   "cell_type": "markdown",
   "metadata": {},
   "source": [
    "### <a id='section5c'><font color=black>C. For Loops</font></a>\n",
    "A for loop has a similar structure as in R and for loops iterate for each item provided:"
   ]
  },
  {
   "cell_type": "markdown",
   "metadata": {},
   "source": [
    "```bash\n",
    "for var in str1 str2 .. strn\n",
    "do\n",
    "   # commands\n",
    "   # $var is available for references, set to str1 -> strn in each loop\n",
    "done\n",
    "```"
   ]
  },
  {
   "cell_type": "code",
   "execution_count": 41,
   "metadata": {},
   "outputs": [
    {
     "name": "stdout",
     "output_type": "stream",
     "text": [
      "Item: 1\n",
      "Item: 2\n",
      "Item: 3\n",
      "Item: 4\n",
      "Item: a\n",
      "Item: b\n",
      "Item: c\n"
     ]
    }
   ],
   "source": [
    "%%bash\n",
    "\n",
    "for i in 1 2 3 4 a b c\n",
    "do\n",
    "    echo \"Item: $i\"\n",
    "done"
   ]
  },
  {
   "cell_type": "markdown",
   "metadata": {},
   "source": [
    "## <a id='section6'><font color=black>6. Output to stdout vs. stderr</font></a>\n",
    "A bash script is just like other command line tools we've seen so far with respect to output and input. The same standard file names and file descriptor numbers are automatically provided as well as the ability to redirect them.\n",
    "\n",
    "When you put a command in a script that writes to standard out, like say head or cat command, the output will also be part of the standard output of the script, just like echo was above. Similarly, if a command has an error and writes to standard error, that will also be a part of the script's standard error.\n",
    "\n",
    "If you want to write to standard error directly in your script, you will redirect the output of the echo command."
   ]
  },
  {
   "cell_type": "code",
   "execution_count": 42,
   "metadata": {},
   "outputs": [
    {
     "name": "stdout",
     "output_type": "stream",
     "text": [
      "ERROR: Something bad happened\n"
     ]
    },
    {
     "name": "stderr",
     "output_type": "stream",
     "text": [
      "ERROR: Something bad happened\n"
     ]
    }
   ],
   "source": [
    "%%bash\n",
    "\n",
    "echo \"ERROR: Something bad happened\"        #<-- direct to stdout\n",
    "\n",
    "echo \"ERROR: Something bad happened\"  1>&2  #<-- redirect file descriptor 1 to 2"
   ]
  },
  {
   "cell_type": "code",
   "execution_count": 43,
   "metadata": {},
   "outputs": [
    {
     "name": "stderr",
     "output_type": "stream",
     "text": [
      "ERROR: The equality is FALSE\n"
     ]
    }
   ],
   "source": [
    "%%bash\n",
    "\n",
    "H=8\n",
    "\n",
    "if [ $H == 10 ]\n",
    "then\n",
    "    echo \"The equality is TRUE\"\n",
    "else\n",
    "    echo \"ERROR: The equality is FALSE\" 1>&2\n",
    "fi\n",
    "\n"
   ]
  },
  {
   "cell_type": "markdown",
   "metadata": {},
   "source": [
    "## <a id='section7'><font color=black>7. There's more...</font></a>\n",
    "***\n",
    "We only scratched the surface of the Unix shell in this exercise. There are many other commands that can be combined in an infinite number of ways. Many repetitive tasks that would take hours of manual work can be done in a few minutes by writing the appropriate commands. Mastering the Unix shell may take a lot of effort, but it leads to dramatic time gains in the long term.\n",
    "\n",
    "Here are a few references:\n",
    "\n",
    "- Linux tutorial at https://ryanstutorials.net/linuxtutorial/\n",
    "- Bash commands at https://ss64.com/bash/\n",
    "- Learn Bash in Y minutes, at https://learnxinyminutes.com/docs/bash/\n",
    "- Learn the shell interactively, at http://www.learnshell.org/\n",
    "- The fish shell, at https://fishshell.com/\n",
    "- xonsh, a Python-powered shell, at http://xon.sh/\n",
    "- Windows Subsystem for Linux, at https://docs.microsoft.com/windows/wsl/about"
   ]
  },
  {
   "cell_type": "markdown",
   "metadata": {},
   "source": [
    "***\n",
    "This tutorial was adapted from https://ipython-books.github.io/21-learning-the-basics-of-the-unix-shell/\n",
    "***"
   ]
  },
  {
   "cell_type": "code",
   "execution_count": null,
   "metadata": {},
   "outputs": [],
   "source": []
  }
 ],
 "metadata": {
  "kernelspec": {
   "display_name": "Python 3",
   "language": "python",
   "name": "python3"
  },
  "language_info": {
   "codemirror_mode": {
    "name": "ipython",
    "version": 3
   },
   "file_extension": ".py",
   "mimetype": "text/x-python",
   "name": "python",
   "nbconvert_exporter": "python",
   "pygments_lexer": "ipython3",
   "version": "3.6.7"
  }
 },
 "nbformat": 4,
 "nbformat_minor": 2
}
